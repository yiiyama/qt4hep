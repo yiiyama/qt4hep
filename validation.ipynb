{
 "cells": [
  {
   "cell_type": "markdown",
   "metadata": {},
   "source": [
    "# Cross-validation of dense and SparsePauliOp implementations"
   ]
  },
  {
   "cell_type": "code",
   "execution_count": 1,
   "metadata": {},
   "outputs": [],
   "source": [
    "import sys\n",
    "sys.path.append('/home/iiyama/src/qt4hep')\n",
    "import numpy as np\n",
    "import scipy\n",
    "import matplotlib.pyplot as plt\n",
    "from qiskit.quantum_info import SparsePauliOp\n",
    "\n",
    "from qt4hep.staggered_fermion import *\n",
    "from qt4hep.spo import *\n",
    "from qt4hep.dense import *"
   ]
  },
  {
   "cell_type": "code",
   "execution_count": 2,
   "metadata": {},
   "outputs": [],
   "source": [
    "num_sites = 8\n",
    "half_lat = num_sites // 2\n",
    "mass = 1.\n",
    "lsp = 0.5"
   ]
  },
  {
   "cell_type": "code",
   "execution_count": 3,
   "metadata": {},
   "outputs": [],
   "source": [
    "rapidity, wavenumber = get_rapidity(num_sites, lsp, mass, with_wn=True)"
   ]
  },
  {
   "cell_type": "markdown",
   "metadata": {},
   "source": [
    "## $\\Phi$ operators"
   ]
  },
  {
   "cell_type": "code",
   "execution_count": 4,
   "metadata": {},
   "outputs": [
    {
     "data": {
      "text/plain": [
       "True"
      ]
     },
     "execution_count": 4,
     "metadata": {},
     "output_type": "execute_result"
    }
   ],
   "source": [
    "phi_spo = jw_annihilator_spo(num_sites)\n",
    "phi_dense = jw_annihilator_dense(num_sites)\n",
    "\n",
    "np.allclose(np.array([op.to_matrix() for op in phi_spo]), phi_dense)"
   ]
  },
  {
   "cell_type": "markdown",
   "metadata": {},
   "source": [
    "## Free-fermion Hamiltonian"
   ]
  },
  {
   "cell_type": "code",
   "execution_count": 5,
   "metadata": {},
   "outputs": [
    {
     "data": {
      "text/plain": [
       "True"
      ]
     },
     "execution_count": 5,
     "metadata": {},
     "output_type": "execute_result"
    }
   ],
   "source": [
    "hopping_spo = staggered_hopping_term_spo(num_sites, lsp)\n",
    "hopping_dense = staggered_hopping_term_dense(num_sites, lsp)\n",
    "np.allclose(hopping_spo.to_matrix(), hopping_dense)"
   ]
  },
  {
   "cell_type": "code",
   "execution_count": 6,
   "metadata": {},
   "outputs": [
    {
     "data": {
      "text/plain": [
       "True"
      ]
     },
     "execution_count": 6,
     "metadata": {},
     "output_type": "execute_result"
    }
   ],
   "source": [
    "mass_spo = staggered_mass_term_spo(num_sites, mass)\n",
    "mass_dense = staggered_mass_term_dense(num_sites, mass)\n",
    "np.allclose(mass_spo.to_matrix(), mass_dense)"
   ]
  },
  {
   "cell_type": "markdown",
   "metadata": {},
   "source": [
    "## Fock-space operators"
   ]
  },
  {
   "cell_type": "code",
   "execution_count": 7,
   "metadata": {},
   "outputs": [
    {
     "data": {
      "text/plain": [
       "True"
      ]
     },
     "execution_count": 7,
     "metadata": {},
     "output_type": "execute_result"
    }
   ],
   "source": [
    "fock_spo = phi_to_ab_spo(phi_spo, rapidity, wavenumber)\n",
    "fock_dense = phi_to_ab_dense(phi_dense, rapidity, wavenumber)\n",
    "np.allclose(np.array([op.to_matrix() for op in fock_spo]), fock_dense)"
   ]
  },
  {
   "cell_type": "markdown",
   "metadata": {},
   "source": [
    "## Inverse transformation from $a, b^{\\dagger}$ to $\\Phi$"
   ]
  },
  {
   "cell_type": "code",
   "execution_count": null,
   "metadata": {},
   "outputs": [
    {
     "data": {
      "text/plain": [
       "True"
      ]
     },
     "execution_count": 8,
     "metadata": {},
     "output_type": "execute_result"
    }
   ],
   "source": [
    "phi_test = ab_to_phi_dense(fock_dense, rapidity, wavenumber)\n",
    "np.allclose(phi_dense, phi_test)"
   ]
  },
  {
   "cell_type": "code",
   "execution_count": 9,
   "metadata": {},
   "outputs": [
    {
     "data": {
      "text/plain": [
       "True"
      ]
     },
     "execution_count": 9,
     "metadata": {},
     "output_type": "execute_result"
    }
   ],
   "source": [
    "phi_test = ab_to_phi_spo(fock_spo, rapidity, wavenumber)\n",
    "np.allclose(np.array([op.to_matrix() for op in phi_spo]), np.array([op.to_matrix() for op in phi_test]))"
   ]
  },
  {
   "cell_type": "markdown",
   "metadata": {},
   "source": [
    "## Free Hamiltonian diagonalization"
   ]
  },
  {
   "cell_type": "code",
   "execution_count": 10,
   "metadata": {},
   "outputs": [
    {
     "data": {
      "text/plain": [
       "True"
      ]
     },
     "execution_count": 10,
     "metadata": {},
     "output_type": "execute_result"
    }
   ],
   "source": [
    "free_h_spo = schwinger_hamiltonian_spo(num_sites, lsp, mass, 0.).to_matrix()\n",
    "fockdag_dense = dagger(fock_dense)\n",
    "adaga = np.einsum('nij,njk->nik', fockdag_dense[:half_lat], fock_dense[:half_lat])\n",
    "bbdag = np.einsum('nij,njk->nik', fock_dense[half_lat:], fockdag_dense[half_lat:])\n",
    "energy = mass * np.cosh(rapidity)\n",
    "free_h_diag = np.sum(energy[:, None, None] * (adaga - bbdag), axis=0)\n",
    "\n",
    "np.allclose(free_h_diag, free_h_spo)"
   ]
  },
  {
   "cell_type": "markdown",
   "metadata": {},
   "source": [
    "## Simultaneous diagonalizability of the Fock number ops"
   ]
  },
  {
   "cell_type": "code",
   "execution_count": 11,
   "metadata": {},
   "outputs": [
    {
     "data": {
      "text/plain": [
       "True"
      ]
     },
     "execution_count": 11,
     "metadata": {},
     "output_type": "execute_result"
    }
   ],
   "source": [
    "fock_label = np.array([1] + [0] * (2 * half_lat - 2) + [1])\n",
    "numop = np.einsum('nij,njk->nik', fockdag_dense, fock_dense)\n",
    "\n",
    "eye = np.eye(2 ** num_sites, dtype=np.complex128)\n",
    "proj = eye\n",
    "for occ, op in zip(fock_label, numop):\n",
    "    if occ == 0:\n",
    "        op = eye - op\n",
    "    proj = op @ proj\n",
    "\n",
    "eigvals, eigvecs = np.linalg.eigh(proj)\n",
    "indices = np.nonzero(np.isclose(eigvals, 1))[0]\n",
    "indices.shape[0] == 1"
   ]
  },
  {
   "cell_type": "code",
   "execution_count": 12,
   "metadata": {},
   "outputs": [
    {
     "name": "stdout",
     "output_type": "stream",
     "text": [
      "0.081+0.004j|00001111) + -0.085+0.077j|00011011) + 0.004-0.081j|00011110) + 0.010-0.222j|00101011) + 0.081+0.004j|00101101) + -0.010+0.222j|00101110) + -0.085+0.077j|00111001) + 0.010-0.222j|00111010) + -0.004+0.081j|00111100) + -0.004+0.081j|01001011) + -0.077-0.085j|01001110) + 0.081+0.004j|01011010) + 0.004-0.081j|01101001) + -0.010+0.222j|01101010) + -0.077-0.085j|01101100) + 0.081+0.004j|01111000) + 0.081+0.004j|10000111) + -0.222-0.010j|10001011) + 0.222+0.010j|10001110) + 0.085-0.077j|10010011) + -0.004+0.081j|10010110) + -0.222-0.010j|10011010) + -0.010+0.222j|10100011) + -0.081-0.004j|10100101) + 0.010-0.222j|10100110) + 0.222+0.010j|10101001) + 0.222+0.010j|10101100) + -0.085+0.077j|10110001) + 0.010-0.222j|10110010) + -0.004+0.081j|10110100) + -0.222-0.010j|10111000) + 0.004-0.081j|11000011) + 0.077+0.085j|11000110) + -0.222-0.010j|11001010) + 0.081+0.004j|11010010) + 0.004-0.081j|11100001) + -0.010+0.222j|11100010) + -0.077-0.085j|11100100) + 0.222+0.010j|11101000) + -0.081-0.004j|11110000)\n"
     ]
    }
   ],
   "source": [
    "state = cleaned(eigvecs[:, indices[0]])\n",
    "state /= np.sqrt(np.sum(np.square(np.abs(state))))\n",
    "indices = np.nonzero(state)[0]\n",
    "terms = []\n",
    "for idx in indices:\n",
    "    binary = (np.array(idx) >> np.arange(num_sites)[::-1]) % 2\n",
    "    coeff = state[idx].real if np.isclose(state[idx].imag, 0.) else state[idx]\n",
    "    terms.append((coeff, ''.join(f'{b}' for b in binary)))\n",
    "print(' + '.join(f'{term[0]:.3f}|{term[1]})' for term in terms))"
   ]
  },
  {
   "cell_type": "markdown",
   "metadata": {},
   "source": [
    "## Total excitation"
   ]
  },
  {
   "cell_type": "code",
   "execution_count": 14,
   "metadata": {},
   "outputs": [
    {
     "data": {
      "text/plain": [
       "True"
      ]
     },
     "execution_count": 14,
     "metadata": {},
     "output_type": "execute_result"
    }
   ],
   "source": [
    "n_basis = np.einsum('nij,njk->ik', dagger(phi_dense), phi_dense)\n",
    "k_basis = np.einsum('nij,njk->ik', dagger(fock_dense)[:half_lat], fock_dense[:half_lat])\n",
    "k_basis += np.einsum('nij,njk->ik', fock_dense[half_lat:], dagger(fock_dense)[half_lat:])\n",
    "\n",
    "np.allclose(n_basis, k_basis)"
   ]
  },
  {
   "cell_type": "code",
   "execution_count": null,
   "metadata": {},
   "outputs": [],
   "source": []
  }
 ],
 "metadata": {
  "kernelspec": {
   "display_name": "Python 3 (ipykernel)",
   "language": "python",
   "name": "python3"
  }
 },
 "nbformat": 4,
 "nbformat_minor": 2
}
